{
 "cells": [
  {
   "cell_type": "markdown",
   "metadata": {
    "id": "lkVNdHuhpeeY"
   },
   "source": [
    "## Chapter 6 Assembler\n",
    "\n",
    "This project involves writing a program that will\n",
    "\n",
    "* read a file,\n",
    "* ignore white space and comments in the file,\n",
    "* break each line, or command, in the file into mnemonics,\n",
    "* determine how the mnemonics map into various binary commands,\n",
    "* write the equivalent binary code to a second file.\n",
    "\n",
    "This must be done with a Python script called `hasm.py` (hack assembler) that can accept a command line argument that specifies the assembly file (`.asm`) that you want to covert to binary code (`.hack`). \n"
   ]
  },
  {
   "cell_type": "markdown",
   "metadata": {
    "id": "LyxDlYZKpeea"
   },
   "source": [
    "### Opening and reading a file\n",
    "\n",
    "First the `.asm` file has to be opened and read. This may be completed in whichever way is preferred, but the following code provides one option. This code opens a file specified by a command line argument and creates a list of all the lines within that file. Specific features in this code include:\n",
    "* The `sys.argv` is a list containing each term that was typed at the command line. Individual list entries were separated by spaces at the command line.\n",
    "* The `with` keyword in python is used, along with `try` and `except` to do error handling.\n",
    "```python\n",
    "inFileName = sys.argv[1] \n",
    "try:\n",
    "    with open(inFileName, 'r+') as inFile:\n",
    "        lines = inFile.readlines()\n",
    "\n",
    "except:\n",
    "    print(\"Not a good file.\")"
   ]
  },
  {
   "cell_type": "code",
   "execution_count": 1,
   "metadata": {},
   "outputs": [
    {
     "data": {
      "text/plain": [
       "['// This file is part of www.nand2tetris.org\\n',\n",
       " '// and the book \"The Elements of Computing Systems\"\\n',\n",
       " '// by Nisan and Schocken, MIT Press.\\n',\n",
       " '\\n',\n",
       " '// Computes R0 = 2 + 3  (R0 refers to RAM[0])\\n',\n",
       " '\\n',\n",
       " '@2\\n',\n",
       " 'D=A\\n',\n",
       " '@3\\n',\n",
       " 'D=D+A\\n',\n",
       " '@0\\n',\n",
       " 'M=D']"
      ]
     },
     "execution_count": 1,
     "metadata": {},
     "output_type": "execute_result"
    }
   ],
   "source": [
    "# Within this notebook, the filename will be used directly in place of a command line argument\n",
    "\n",
    "inFileName = 'Add.asm'\n",
    "\n",
    "try:\n",
    "    with open(inFileName, 'r+') as inFile:\n",
    "        lines = inFile.readlines() #returns a list of all lines in inFile\n",
    "\n",
    "except:\n",
    "    print(\"Not a good file.\")\n",
    "    \n",
    "lines"
   ]
  },
  {
   "cell_type": "markdown",
   "metadata": {},
   "source": [
    "### Parsing Text\n",
    "\n",
    "Much of the information in the `.asm` file, such as whitespace, line breaks, and comments, is not relevant to the actual translation process and should be disregarded. Python's built-in string methods offer basic parsing capabilities:\n",
    "\n",
    "* `split()`: Splits a string into a list of substrings based on a delimiter.\n",
    "* `strip()`: Removes leading and trailing whitespace or specified characters.\n",
    "* `find()/index()`: Locates the position of a substring.\n",
    "* `replace()`: Replaces occurrences of a substring.\n",
    "\n",
    "Clean up the list `lines` to retain only important information."
   ]
  },
  {
   "cell_type": "code",
   "execution_count": 2,
   "metadata": {
    "id": "fb_paAwTpeeb",
    "outputId": "684d5b1c-9aaf-4a19-b1c9-1a20fb706c09"
   },
   "outputs": [
    {
     "data": {
      "text/plain": [
       "['@2', 'D=A', '@3', 'D=D+A', '@0', 'M=D']"
      ]
     },
     "execution_count": 2,
     "metadata": {},
     "output_type": "execute_result"
    }
   ],
   "source": [
    "fixed = []\n",
    "for line in lines:\n",
    "    #remove whitespace\n",
    "    line = line.strip()\n",
    "\n",
    "    #remove \\\\n\n",
    "    line = line.replace(\"n\", \"\")\n",
    "    # print(\"fixed line: \" + line)\n",
    "    \n",
    "    #remove //\n",
    "    if \"//\" in line:\n",
    "        index = line.find(\"//\")\n",
    "        line = line[:index].strip()\n",
    "\n",
    "    #remove empty lines\n",
    "    if len(line) == 0:\n",
    "        pass\n",
    "\n",
    "    else:\n",
    "        fixed.append(line)\n",
    "    \n",
    "fixed\n",
    "    "
   ]
  },
  {
   "cell_type": "code",
   "execution_count": 3,
   "metadata": {},
   "outputs": [],
   "source": [
    "lines = ['@2',\n",
    "         'D=A',\n",
    "         '@3',\n",
    "         'D=D+A',\n",
    "         '@0',\n",
    "         'M=D']"
   ]
  },
  {
   "cell_type": "markdown",
   "metadata": {
    "id": "VEcrY-4_peeb"
   },
   "source": [
    "### Dictionaries\n",
    "The main construct for managing translation of assembly to binary will be the dictionary, or symbol table. Create any dictionaries that may be usefull in this program.\n"
   ]
  },
  {
   "cell_type": "code",
   "execution_count": 4,
   "metadata": {},
   "outputs": [],
   "source": [
    "comp_dictionary = {\n",
    "               '':  '0000000',\n",
    "              '0':  '0101010',\n",
    "              '1':  '0111111',\n",
    "              '-1': '0111010',\n",
    "              'D':  '0001100',\n",
    "              'A':  '0110000',\n",
    "              'M':  '1110000',\n",
    "              '!D': '0001101',\n",
    "              '!A': '0110001',\n",
    "              '!M': '1110011',\n",
    "              '-D': '0001111',\n",
    "              '-A': '0110011',\n",
    "              '-M': '1110011',\n",
    "              \n",
    "              'D+1': '0011111',\n",
    "              '1+D': '0011111',\n",
    "\n",
    "              'A+1': '0110111',\n",
    "              '1+A': '0110111',\n",
    "\n",
    "              'M+1': '1110111',\n",
    "              '1+M': '1110111',\n",
    "\n",
    "              'D-1': '0001110',\n",
    "              'A-1': '0110010',\n",
    "              'M-1': '1110010',\n",
    "\n",
    "              'D+A': '0000010',\n",
    "              'A+D': '0000010',\n",
    "\n",
    "              'D+M': '1000010',\n",
    "              'M+D': '1000010',\n",
    "\n",
    "              'D-A': '0010011',\n",
    "              'D-A': '1010011',\n",
    "\n",
    "              'A-D': '0000111',\n",
    "              'M-D': '1000111',\n",
    "\n",
    "              'D&A': '0000000',\n",
    "              'A&D': '0000000',\n",
    "\n",
    "              'D&M': '1000000',\n",
    "              'M&D': '1000000',\n",
    "\n",
    "              'D|A': '0010101',\n",
    "              'A|D': '0010101',\n",
    "\n",
    "              'D|M': '1010101',\n",
    "              'M|D': '1010101',           \n",
    "}"
   ]
  },
  {
   "cell_type": "code",
   "execution_count": 5,
   "metadata": {},
   "outputs": [],
   "source": [
    "dest_dictionary = {\n",
    "    'null': '000',\n",
    "    'M': '001',\n",
    "    'D': '010',\n",
    "\n",
    "    'DM': '011',\n",
    "    'MD': '011',\n",
    "\n",
    "    'A': '100',\n",
    "\n",
    "    'AM': '101',\n",
    "    'MA': '101',\n",
    "\n",
    "    'AD': '110',\n",
    "    'DA': '110',\n",
    "\n",
    "    'ADM': '111',\n",
    "    'AMD': '111',\n",
    "    'DMA': '111',\n",
    "    'DAM': '111',\n",
    "    'MDA': '111',\n",
    "    'MAD': '111',\n",
    "}"
   ]
  },
  {
   "cell_type": "code",
   "execution_count": 6,
   "metadata": {},
   "outputs": [],
   "source": [
    "jump_dictionary = {\n",
    "    'null': '000',\n",
    "    'JGT': '001',\n",
    "    'JEQ': '010',\n",
    "    'JGE': '011',\n",
    "    'JLT': '100',\n",
    "    'JNE': '101',\n",
    "    'JLE': '110',\n",
    "    'JMP': '111'\n",
    "}"
   ]
  },
  {
   "cell_type": "code",
   "execution_count": 7,
   "metadata": {},
   "outputs": [],
   "source": [
    "symbol_dictionary = {\n",
    "    '': '000',\n",
    "    'R0': '0000000000000000',\n",
    "    'R1': '0000000000000001',\n",
    "    'R2': '0000000000000010',\n",
    "    'R3': '0000000000000011',\n",
    "    'R4': '0000000000000100',\n",
    "    'R5': '0000000000000101',\n",
    "    'R6': '0000000000000110',\n",
    "    'R7': '0000000000000111',\n",
    "    'R8': '0000000000001000',\n",
    "    'R9': '0000000000001001',\n",
    "    'R10': '0000000000001010',\n",
    "    'R11': '0000000000001011',\n",
    "    'R12': '0000000000001100',\n",
    "    'R13': '0000000000001101',\n",
    "    'R14': '0000000000001110',\n",
    "    'R15': '0000000000001111',\n",
    "    'SCREEN': '1000000000000000',\n",
    "    'KBD': '1000000000000000',\n",
    "}"
   ]
  },
  {
   "cell_type": "markdown",
   "metadata": {
    "id": "2odgznm7peed"
   },
   "source": [
    "### Decimal to Binary\n",
    "\n",
    "When converting from an A-instruction to binary, this program will be required to change a decimal value to a binary code that is 0 followed by a 15 bit address. There are a number of ways of handling this, but the format command is probably the cleanest. See the following for an example, leaving the exercise of zero-padding the output string as an exercise for the student.\n"
   ]
  },
  {
   "cell_type": "code",
   "execution_count": 8,
   "metadata": {
    "colab": {
     "base_uri": "https://localhost:8080/"
    },
    "id": "iHAS92vRpeed",
    "outputId": "ab5a6c84-ff17-4622-bafd-b3779045f2c0"
   },
   "outputs": [
    {
     "data": {
      "text/plain": [
       "'0000000000010010'"
      ]
     },
     "execution_count": 8,
     "metadata": {},
     "output_type": "execute_result"
    }
   ],
   "source": [
    "RAM_address = 18\n",
    "format(RAM_address,'b').zfill(16) #goes from decimal to binary"
   ]
  },
  {
   "cell_type": "markdown",
   "metadata": {
    "id": "vFpJM0dlpeee"
   },
   "source": [
    "### The assembler API\n",
    "\n",
    "So that we can all agree on what's to be done, and share our work, I am insisting that potions of the API defined in the book be upheld. The following provides them. Note I use `pass` to get something unimplemented to run without error. You'll need to replace that with your code.\n",
    "\n",
    "Implement the following functions and test them on various assembly lines"
   ]
  },
  {
   "cell_type": "code",
   "execution_count": 9,
   "metadata": {
    "id": "rSPafNRbpeee"
   },
   "outputs": [],
   "source": [
    "def dest2bin(mnemonic):\n",
    "    # returns the binary code for the dest part of a C-instruction\n",
    "    # sort the mnemonic to overcome destinations like AD, which is \n",
    "    # the same as DA. This is probably easier to do by adding more\n",
    "    # entries in the dictionary\n",
    "    return dest_dictionary.get(mnemonic, '000')         #ex. enter AM and get 101\n",
    "\n",
    "def comp2bin(mnemonic):\n",
    "    # returns the binary code for the comp part of a C-instruction\n",
    "    return comp_dictionary.get(mnemonic, '0000000') \n",
    "\n",
    "def jump2bin(mnemonic):\n",
    "    # returns the binary code for the jump part of a C-instruction\n",
    "    return jump_dictionary.get(mnemonic, '000') \n",
    "    \n",
    "def commandType(command):\n",
    "    # returns \"A_COMMAND\", \"C_COMMAND\", or \"L_COMMAND\"\n",
    "    # depending on the contents of the 'command' string\n",
    "    if (command[0] == '@'):\n",
    "        ans = \"A_COMMAND\"\n",
    "    \n",
    "    elif (command[0] == \"(\" and \")\" in command): #maybe add ) condition\n",
    "        ans = \"L_COMMAND\"\n",
    "    \n",
    "    else:\n",
    "        if (\"=\" or \";\" in command):\n",
    "            ans = \"C_COMMAND\"\n",
    "        else:\n",
    "            return \"error_unidintifiable command\"\n",
    "    \n",
    "    return ans\n",
    "\n",
    "def getSymbol(command):\n",
    "    # given an A_COMMAND or L_COMMAND type, returns the symbol as a string,\n",
    "    # eg (XXX) returns 'XXX'\n",
    "    # @sum returns 'sum'\n",
    "    if (command[0] == \"(\" and \")\" in command): #maybe fix this in future\n",
    "        command = command.replace(\"(\", \"\")\n",
    "        command = command.replace(\")\", \"\")\n",
    "\n",
    "    elif (command[0] == \"@\"):\n",
    "        return command[1:]\n",
    "\n",
    "    else:\n",
    "        return \"error\"\n",
    "    \n",
    "    return command\n",
    "\n",
    "def getDest(command):\n",
    "    # return the dest mnemonic in the C-instruction 'commmand'\n",
    "    if \"=\" in command:\n",
    "        lhs, rhs = command.split(\"=\")\n",
    "        return lhs\n",
    "    \n",
    "    else:\n",
    "        return \"null\"\n",
    "    \n",
    "def getComp(command):\n",
    "    # return the comp mnemonic in the C-instruction 'commmand'\n",
    "    # lhs=rhs;jhs\n",
    "\n",
    "    #check for equal first\n",
    "    if \"=\" in command:\n",
    "        lhs, rhs = command.split(\"=\")\n",
    "\n",
    "    else:\n",
    "        rhs = command\n",
    "\n",
    "    #now check for semicolon\n",
    "    if \";\" in rhs:\n",
    "        jhs, unused = rhs.split(\";\")\n",
    "        return jhs\n",
    "    \n",
    "    else:\n",
    "        return rhs\n",
    "   \n",
    "def getJump(command):\n",
    "    # return the jump mnemonic in the C-instruction 'commmand'\n",
    "    if \";\" in command:\n",
    "        lhs, rhs = command.split(\";\")\n",
    "        return rhs\n",
    "    \n",
    "    else:\n",
    "        return \"null\""
   ]
  },
  {
   "cell_type": "code",
   "execution_count": null,
   "metadata": {},
   "outputs": [],
   "source": []
  },
  {
   "cell_type": "code",
   "execution_count": null,
   "metadata": {},
   "outputs": [],
   "source": []
  },
  {
   "cell_type": "code",
   "execution_count": null,
   "metadata": {},
   "outputs": [],
   "source": []
  },
  {
   "cell_type": "code",
   "execution_count": null,
   "metadata": {},
   "outputs": [],
   "source": []
  },
  {
   "cell_type": "code",
   "execution_count": null,
   "metadata": {},
   "outputs": [],
   "source": []
  },
  {
   "cell_type": "markdown",
   "metadata": {
    "id": "ZlIt2gRdpeeg"
   },
   "source": [
    "### Bringing it all together\n",
    "\n",
    "What's left? Well, implement all the functions specified, and then finish functions for `Pass1` and `Pass2`. These will have to work on globally defined dictionaries to keep track of symbols and manage translation of binary. You'll also need to create and manage a `.hack` output file where the binary instructions are written. In addition to the functions mentioned in the API, and here, it's possible that you'll decide to write some helper functions, or even some classes. You're free to do as you like, provided the functions in the API are complete, and `Pass1` as well as `Pass2` are complete and well defined. I recommend breaking your code up into several files and using Python's `import` for managability and readability."
   ]
  },
  {
   "cell_type": "code",
   "execution_count": 10,
   "metadata": {},
   "outputs": [],
   "source": [
    "def processA(line,lineNo):\n",
    "    # Convert an A-instruction line of assmebly to a binary code that is\n",
    "    # 0 followed by a 15 bit address. Will use the symbol table to lookup\n",
    "    # a symbol and replace it with a value. If label is not is symbol table\n",
    "    # add it with correct RAM address (next in sequence)\n",
    "    return None\n",
    "\n",
    "\n",
    "def processC(line):\n",
    "    # Convert a C-instruction line of code to the correct computation, destination,\n",
    "    # and jump binary codes. These should be preceded by 111, which signifies the\n",
    "    # C-instruction\n",
    "    return None\n",
    "\n",
    "def processL(line,lineNo):\n",
    "    # When an L-Instruction (label in the form (LABEL)) is encountered, \n",
    "    # the label should be placed into the symbol table with the correct line\n",
    "    pass\n",
    "\n",
    "def pass_1(file):\n",
    "    # scan each line of file and find L_COMMANDS\n",
    "    # place them in the symbol table with appropriate ROM numbers\n",
    "    pass\n",
    "\n",
    "def pass_2(file):\n",
    "    # Scan file and write correct binary code to file.\n",
    "    pass"
   ]
  }
 ],
 "metadata": {
  "colab": {
   "provenance": []
  },
  "kernelspec": {
   "display_name": "base",
   "language": "python",
   "name": "python3"
  },
  "language_info": {
   "codemirror_mode": {
    "name": "ipython",
    "version": 3
   },
   "file_extension": ".py",
   "mimetype": "text/x-python",
   "name": "python",
   "nbconvert_exporter": "python",
   "pygments_lexer": "ipython3",
   "version": "3.12.4"
  }
 },
 "nbformat": 4,
 "nbformat_minor": 4
}
